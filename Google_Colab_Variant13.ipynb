{
  "nbformat": 4,
  "nbformat_minor": 0,
  "metadata": {
    "colab": {
      "provenance": []
    },
    "kernelspec": {
      "name": "python3",
      "display_name": "Python 3"
    },
    "language_info": {
      "name": "python"
    }
  },
  "cells": [
    {
      "cell_type": "markdown",
      "source": [
        "# Практическое задание *№1*\n",
        "\n",
        "**Жирный текст** и *курсивный текст*.\n",
        "\n",
        "## Списки:\n",
        "\n",
        "### Маркированный список:\n",
        "- Первый элемент\n",
        "- Второй элемент\n",
        "- Третий элемент\n",
        "\n",
        "### Нумерованный список:\n",
        "1. Первый пункт\n",
        "2. Второй пункт\n",
        "3. Третий пункт\n",
        "\n",
        "### Формула (Вариант №13):\n",
        "$$A = \\int_{a}^{b} |f(x) - g(x)| \\,dx.$$\n",
        "\n",
        "### Изображение:\n",
        "![Cat](/cat.jpg)"
      ],
      "metadata": {
        "id": "aeo_mKy2xcT_"
      }
    },
    {
      "cell_type": "code",
      "source": [
        "name = input(\"Введите ваше имя: \")\n",
        "\n",
        "print(f\"Привет, {name}! Добро пожаловать в JupyterLab / Google Colab!\")"
      ],
      "metadata": {
        "colab": {
          "base_uri": "https://localhost:8080/"
        },
        "id": "G_v78UAS0fY9",
        "outputId": "97b9b483-71c6-4a6e-b4cd-bf53ce78c82f"
      },
      "execution_count": 1,
      "outputs": [
        {
          "output_type": "stream",
          "name": "stdout",
          "text": [
            "Введите ваше имя: Александр\n",
            "Привет, Александр! Добро пожаловать в JupyterLab / Google Colab!\n"
          ]
        }
      ]
    },
    {
      "cell_type": "markdown",
      "source": [],
      "metadata": {
        "id": "MVklE38Cy2Mu"
      }
    }
  ]
}